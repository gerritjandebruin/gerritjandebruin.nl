{
 "cells": [
  {
   "cell_type": "markdown",
   "metadata": {},
   "source": [
    "# Some very simple classification using scikit-learn\n",
    "We are going to predict from transactional data whether customers are loyal. We will do this by training a classifier that will predict whether a given customer will return in 2015."
   ]
  },
  {
   "cell_type": "markdown",
   "metadata": {},
   "source": [
    "## Load relevant modules"
   ]
  },
  {
   "cell_type": "code",
   "execution_count": 1,
   "metadata": {},
   "outputs": [],
   "source": [
    "import pandas as pd\n",
    "from sklearn.ensemble import RandomForestClassifier\n",
    "from sklearn.model_selection import train_test_split\n",
    "from sklearn.metrics import confusion_matrix"
   ]
  },
  {
   "cell_type": "markdown",
   "metadata": {},
   "source": [
    "## Data Preparation\n",
    "Get the data from http://liacs.leidenuniv.nl/~takesfw/DSPM/data/sales.csv and read it with Pandas. The argument `names` provide the column headers."
   ]
  },
  {
   "cell_type": "code",
   "execution_count": 2,
   "metadata": {},
   "outputs": [
    {
     "data": {
      "text/html": [
       "<div>\n",
       "<style scoped>\n",
       "    .dataframe tbody tr th:only-of-type {\n",
       "        vertical-align: middle;\n",
       "    }\n",
       "\n",
       "    .dataframe tbody tr th {\n",
       "        vertical-align: top;\n",
       "    }\n",
       "\n",
       "    .dataframe thead th {\n",
       "        text-align: right;\n",
       "    }\n",
       "</style>\n",
       "<table border=\"1\" class=\"dataframe\">\n",
       "  <thead>\n",
       "    <tr style=\"text-align: right;\">\n",
       "      <th></th>\n",
       "      <th>saleId</th>\n",
       "      <th>saleDateTime</th>\n",
       "      <th>accountName</th>\n",
       "      <th>coins</th>\n",
       "      <th>currency</th>\n",
       "      <th>priceInCurrency</th>\n",
       "      <th>priceInEUR</th>\n",
       "      <th>methodId</th>\n",
       "      <th>ip</th>\n",
       "      <th>ipCountry</th>\n",
       "    </tr>\n",
       "  </thead>\n",
       "  <tbody>\n",
       "    <tr>\n",
       "      <th>0</th>\n",
       "      <td>22497</td>\n",
       "      <td>2010-01-01 08:00:31</td>\n",
       "      <td>214001065a105d24da76ad30f</td>\n",
       "      <td>14000</td>\n",
       "      <td>EUR</td>\n",
       "      <td>10.00</td>\n",
       "      <td>10.000</td>\n",
       "      <td>40</td>\n",
       "      <td>21.213.175.133</td>\n",
       "      <td>CY</td>\n",
       "    </tr>\n",
       "    <tr>\n",
       "      <th>1</th>\n",
       "      <td>22499</td>\n",
       "      <td>2010-01-01 11:53:24</td>\n",
       "      <td>1f9d7ef7422a94de52ada4870</td>\n",
       "      <td>35000</td>\n",
       "      <td>EUR</td>\n",
       "      <td>20.00</td>\n",
       "      <td>20.000</td>\n",
       "      <td>40</td>\n",
       "      <td>151.36.162.144</td>\n",
       "      <td>CY</td>\n",
       "    </tr>\n",
       "    <tr>\n",
       "      <th>2</th>\n",
       "      <td>22500</td>\n",
       "      <td>2010-01-01 11:56:50</td>\n",
       "      <td>d459930438f5610a5d915a767</td>\n",
       "      <td>14000</td>\n",
       "      <td>EUR</td>\n",
       "      <td>10.00</td>\n",
       "      <td>10.000</td>\n",
       "      <td>40</td>\n",
       "      <td>151.36.162.144</td>\n",
       "      <td>CY</td>\n",
       "    </tr>\n",
       "    <tr>\n",
       "      <th>3</th>\n",
       "      <td>22506</td>\n",
       "      <td>2010-01-01 13:31:41</td>\n",
       "      <td>d35bf11e9d005f64d8027521b</td>\n",
       "      <td>28000</td>\n",
       "      <td>EUR</td>\n",
       "      <td>20.00</td>\n",
       "      <td>20.000</td>\n",
       "      <td>40</td>\n",
       "      <td>155.196.146.232</td>\n",
       "      <td>GR</td>\n",
       "    </tr>\n",
       "    <tr>\n",
       "      <th>4</th>\n",
       "      <td>22507</td>\n",
       "      <td>2010-01-01 13:33:54</td>\n",
       "      <td>d35bf11e9d005f64d8027521b</td>\n",
       "      <td>6000</td>\n",
       "      <td>EUR</td>\n",
       "      <td>5.00</td>\n",
       "      <td>5.000</td>\n",
       "      <td>40</td>\n",
       "      <td>155.196.146.232</td>\n",
       "      <td>GR</td>\n",
       "    </tr>\n",
       "    <tr>\n",
       "      <th>...</th>\n",
       "      <td>...</td>\n",
       "      <td>...</td>\n",
       "      <td>...</td>\n",
       "      <td>...</td>\n",
       "      <td>...</td>\n",
       "      <td>...</td>\n",
       "      <td>...</td>\n",
       "      <td>...</td>\n",
       "      <td>...</td>\n",
       "      <td>...</td>\n",
       "    </tr>\n",
       "    <tr>\n",
       "      <th>747106</th>\n",
       "      <td>2559412</td>\n",
       "      <td>2015-05-14 03:40:51</td>\n",
       "      <td>b158d12fbe85dc2bc50bad52c</td>\n",
       "      <td>2100</td>\n",
       "      <td>EUR</td>\n",
       "      <td>2.00</td>\n",
       "      <td>2.000</td>\n",
       "      <td>2000</td>\n",
       "      <td>144.76.183.73</td>\n",
       "      <td>FR</td>\n",
       "    </tr>\n",
       "    <tr>\n",
       "      <th>747107</th>\n",
       "      <td>2559413</td>\n",
       "      <td>2015-05-14 03:41:30</td>\n",
       "      <td>b7f401f488a08b823bd7d9c6c</td>\n",
       "      <td>4000</td>\n",
       "      <td>EUR</td>\n",
       "      <td>4.00</td>\n",
       "      <td>4.000</td>\n",
       "      <td>2000</td>\n",
       "      <td>154.95.162.120</td>\n",
       "      <td>GF</td>\n",
       "    </tr>\n",
       "    <tr>\n",
       "      <th>747108</th>\n",
       "      <td>2559425</td>\n",
       "      <td>2015-05-14 19:01:32</td>\n",
       "      <td>7ba22509dff6afa562d5e73b4</td>\n",
       "      <td>1100</td>\n",
       "      <td>PLN</td>\n",
       "      <td>4.99</td>\n",
       "      <td>1.228</td>\n",
       "      <td>2000</td>\n",
       "      <td>1.50.212.16</td>\n",
       "      <td>PL</td>\n",
       "    </tr>\n",
       "    <tr>\n",
       "      <th>747109</th>\n",
       "      <td>2559427</td>\n",
       "      <td>2015-05-14 23:11:26</td>\n",
       "      <td>0b7ce8a6f37f0a19726469ce8</td>\n",
       "      <td>4000</td>\n",
       "      <td>EUR</td>\n",
       "      <td>4.00</td>\n",
       "      <td>4.000</td>\n",
       "      <td>2000</td>\n",
       "      <td>218.131.46.249</td>\n",
       "      <td>RE</td>\n",
       "    </tr>\n",
       "    <tr>\n",
       "      <th>747110</th>\n",
       "      <td>2559429</td>\n",
       "      <td>2015-05-15 09:25:14</td>\n",
       "      <td>cc7267f27c95acc46be8b8a8b</td>\n",
       "      <td>15000</td>\n",
       "      <td>EUR</td>\n",
       "      <td>10.00</td>\n",
       "      <td>10.000</td>\n",
       "      <td>40</td>\n",
       "      <td>21.190.113.186</td>\n",
       "      <td>NL</td>\n",
       "    </tr>\n",
       "  </tbody>\n",
       "</table>\n",
       "<p>747111 rows × 10 columns</p>\n",
       "</div>"
      ],
      "text/plain": [
       "         saleId        saleDateTime                accountName  coins  \\\n",
       "0         22497 2010-01-01 08:00:31  214001065a105d24da76ad30f  14000   \n",
       "1         22499 2010-01-01 11:53:24  1f9d7ef7422a94de52ada4870  35000   \n",
       "2         22500 2010-01-01 11:56:50  d459930438f5610a5d915a767  14000   \n",
       "3         22506 2010-01-01 13:31:41  d35bf11e9d005f64d8027521b  28000   \n",
       "4         22507 2010-01-01 13:33:54  d35bf11e9d005f64d8027521b   6000   \n",
       "...         ...                 ...                        ...    ...   \n",
       "747106  2559412 2015-05-14 03:40:51  b158d12fbe85dc2bc50bad52c   2100   \n",
       "747107  2559413 2015-05-14 03:41:30  b7f401f488a08b823bd7d9c6c   4000   \n",
       "747108  2559425 2015-05-14 19:01:32  7ba22509dff6afa562d5e73b4   1100   \n",
       "747109  2559427 2015-05-14 23:11:26  0b7ce8a6f37f0a19726469ce8   4000   \n",
       "747110  2559429 2015-05-15 09:25:14  cc7267f27c95acc46be8b8a8b  15000   \n",
       "\n",
       "       currency  priceInCurrency  priceInEUR  methodId               ip  \\\n",
       "0           EUR            10.00      10.000        40   21.213.175.133   \n",
       "1           EUR            20.00      20.000        40   151.36.162.144   \n",
       "2           EUR            10.00      10.000        40   151.36.162.144   \n",
       "3           EUR            20.00      20.000        40  155.196.146.232   \n",
       "4           EUR             5.00       5.000        40  155.196.146.232   \n",
       "...         ...              ...         ...       ...              ...   \n",
       "747106      EUR             2.00       2.000      2000    144.76.183.73   \n",
       "747107      EUR             4.00       4.000      2000   154.95.162.120   \n",
       "747108      PLN             4.99       1.228      2000      1.50.212.16   \n",
       "747109      EUR             4.00       4.000      2000   218.131.46.249   \n",
       "747110      EUR            10.00      10.000        40   21.190.113.186   \n",
       "\n",
       "       ipCountry  \n",
       "0             CY  \n",
       "1             CY  \n",
       "2             CY  \n",
       "3             GR  \n",
       "4             GR  \n",
       "...          ...  \n",
       "747106        FR  \n",
       "747107        GF  \n",
       "747108        PL  \n",
       "747109        RE  \n",
       "747110        NL  \n",
       "\n",
       "[747111 rows x 10 columns]"
      ]
     },
     "execution_count": 2,
     "metadata": {},
     "output_type": "execute_result"
    }
   ],
   "source": [
    "df = pd.read_csv(\n",
    "    'http://liacs.leidenuniv.nl/~takesfw/DSPM/data/sales.csv', \n",
    "    names=[\n",
    "        'saleId', 'saleDateTime', 'accountName', 'coins', 'currency', \n",
    "        'priceInCurrency', 'priceInEUR', 'methodId', 'ip', 'ipCountry'\n",
    "    ],\n",
    "    parse_dates=['saleDateTime']\n",
    ")\n",
    "df"
   ]
  },
  {
   "cell_type": "markdown",
   "metadata": {},
   "source": [
    "## Feature construction\n",
    "Slice the data such that only transactions before 2015 are included. We want to predict whether customers return in 2015 and hence this information may not be included in the features.\n"
   ]
  },
  {
   "cell_type": "code",
   "execution_count": 3,
   "metadata": {},
   "outputs": [],
   "source": [
    "learning_set = df[df['saleDateTime'].dt.year < 2015]"
   ]
  },
  {
   "cell_type": "markdown",
   "metadata": {},
   "source": [
    "Create some very basic features:\n",
    "- number of transactions\n",
    "- mean priceInCurrency per transactions\n",
    "- maximum number of coints bought in one transaction\n",
    "\n",
    "Each row in the following table is one customer (result is similiar to SQL's `GROUP BY` function), each column one feature."
   ]
  },
  {
   "cell_type": "code",
   "execution_count": 4,
   "metadata": {},
   "outputs": [
    {
     "data": {
      "text/html": [
       "<div>\n",
       "<style scoped>\n",
       "    .dataframe tbody tr th:only-of-type {\n",
       "        vertical-align: middle;\n",
       "    }\n",
       "\n",
       "    .dataframe tbody tr th {\n",
       "        vertical-align: top;\n",
       "    }\n",
       "\n",
       "    .dataframe thead th {\n",
       "        text-align: right;\n",
       "    }\n",
       "</style>\n",
       "<table border=\"1\" class=\"dataframe\">\n",
       "  <thead>\n",
       "    <tr style=\"text-align: right;\">\n",
       "      <th></th>\n",
       "      <th>coins</th>\n",
       "      <th>priceInCurrency</th>\n",
       "      <th>saleId</th>\n",
       "    </tr>\n",
       "    <tr>\n",
       "      <th>accountName</th>\n",
       "      <th></th>\n",
       "      <th></th>\n",
       "      <th></th>\n",
       "    </tr>\n",
       "  </thead>\n",
       "  <tbody>\n",
       "    <tr>\n",
       "      <th>000113b526fbc8d19f03fccb9</th>\n",
       "      <td>6100</td>\n",
       "      <td>4.666667</td>\n",
       "      <td>3</td>\n",
       "    </tr>\n",
       "    <tr>\n",
       "      <th>00027408fd5b8ff231814dbf2</th>\n",
       "      <td>31000</td>\n",
       "      <td>3.598167</td>\n",
       "      <td>120</td>\n",
       "    </tr>\n",
       "    <tr>\n",
       "      <th>0002c9dd969f5e5831d492524</th>\n",
       "      <td>15000</td>\n",
       "      <td>8.000000</td>\n",
       "      <td>5</td>\n",
       "    </tr>\n",
       "    <tr>\n",
       "      <th>0004dd02811925311678f7c85</th>\n",
       "      <td>6100</td>\n",
       "      <td>4.338000</td>\n",
       "      <td>5</td>\n",
       "    </tr>\n",
       "    <tr>\n",
       "      <th>00066a451be9a6bc5fda16fd9</th>\n",
       "      <td>2100</td>\n",
       "      <td>5.617500</td>\n",
       "      <td>8</td>\n",
       "    </tr>\n",
       "    <tr>\n",
       "      <th>...</th>\n",
       "      <td>...</td>\n",
       "      <td>...</td>\n",
       "      <td>...</td>\n",
       "    </tr>\n",
       "    <tr>\n",
       "      <th>fffaa6a39be1ab2f86fd2571f</th>\n",
       "      <td>31000</td>\n",
       "      <td>20.000000</td>\n",
       "      <td>1</td>\n",
       "    </tr>\n",
       "    <tr>\n",
       "      <th>fffb2efd72b3318b86173d294</th>\n",
       "      <td>7200</td>\n",
       "      <td>8.000000</td>\n",
       "      <td>1</td>\n",
       "    </tr>\n",
       "    <tr>\n",
       "      <th>fffcd5cce92731953647fe62f</th>\n",
       "      <td>17000</td>\n",
       "      <td>4.454262</td>\n",
       "      <td>122</td>\n",
       "    </tr>\n",
       "    <tr>\n",
       "      <th>fffd3e63c839efd5435be9619</th>\n",
       "      <td>14000</td>\n",
       "      <td>15.000000</td>\n",
       "      <td>2</td>\n",
       "    </tr>\n",
       "    <tr>\n",
       "      <th>fffdb7a076319ce6d46ec4ed8</th>\n",
       "      <td>3800</td>\n",
       "      <td>3.797500</td>\n",
       "      <td>4</td>\n",
       "    </tr>\n",
       "  </tbody>\n",
       "</table>\n",
       "<p>68511 rows × 3 columns</p>\n",
       "</div>"
      ],
      "text/plain": [
       "                           coins  priceInCurrency  saleId\n",
       "accountName                                              \n",
       "000113b526fbc8d19f03fccb9   6100         4.666667       3\n",
       "00027408fd5b8ff231814dbf2  31000         3.598167     120\n",
       "0002c9dd969f5e5831d492524  15000         8.000000       5\n",
       "0004dd02811925311678f7c85   6100         4.338000       5\n",
       "00066a451be9a6bc5fda16fd9   2100         5.617500       8\n",
       "...                          ...              ...     ...\n",
       "fffaa6a39be1ab2f86fd2571f  31000        20.000000       1\n",
       "fffb2efd72b3318b86173d294   7200         8.000000       1\n",
       "fffcd5cce92731953647fe62f  17000         4.454262     122\n",
       "fffd3e63c839efd5435be9619  14000        15.000000       2\n",
       "fffdb7a076319ce6d46ec4ed8   3800         3.797500       4\n",
       "\n",
       "[68511 rows x 3 columns]"
      ]
     },
     "execution_count": 4,
     "metadata": {},
     "output_type": "execute_result"
    }
   ],
   "source": [
    "features = learning_set.groupby(['accountName']).agg({'coins': 'max', 'priceInCurrency': 'mean', 'saleId': 'nunique'})\n",
    "features"
   ]
  },
  {
   "cell_type": "markdown",
   "metadata": {},
   "source": [
    "The following array presents all customers that had a transaction in 2015. This are the customers that are loyal, hence we want the classification model to target these customers."
   ]
  },
  {
   "cell_type": "code",
   "execution_count": 5,
   "metadata": {},
   "outputs": [],
   "source": [
    "target = df[df['saleDateTime'].dt.year == 2015]['accountName'].values"
   ]
  },
  {
   "cell_type": "code",
   "execution_count": 6,
   "metadata": {},
   "outputs": [
    {
     "data": {
      "text/plain": [
       "array(['d99b7d0aa59c953e20cf3b5d7', '85d9e4def318173c70568f269',\n",
       "       'bffbcb55d031774bbcbeca576', ..., '7ba22509dff6afa562d5e73b4',\n",
       "       '0b7ce8a6f37f0a19726469ce8', 'cc7267f27c95acc46be8b8a8b'],\n",
       "      dtype=object)"
      ]
     },
     "execution_count": 6,
     "metadata": {},
     "output_type": "execute_result"
    }
   ],
   "source": [
    "target"
   ]
  },
  {
   "cell_type": "code",
   "execution_count": 7,
   "metadata": {},
   "outputs": [],
   "source": [
    "features['target'] = features.index.isin(target)"
   ]
  },
  {
   "cell_type": "markdown",
   "metadata": {},
   "source": [
    "Count the numbers that did or did not return in 2015. Note the class imbalance. A model predicting always `False` will have an accuracy over 90%."
   ]
  },
  {
   "cell_type": "code",
   "execution_count": 8,
   "metadata": {},
   "outputs": [
    {
     "data": {
      "text/plain": [
       "False    62895\n",
       "True      5616\n",
       "Name: target, dtype: int64"
      ]
     },
     "execution_count": 8,
     "metadata": {},
     "output_type": "execute_result"
    }
   ],
   "source": [
    "features['target'].value_counts()"
   ]
  },
  {
   "cell_type": "code",
   "execution_count": 9,
   "metadata": {},
   "outputs": [],
   "source": [
    "train, test = train_test_split(features)"
   ]
  },
  {
   "cell_type": "markdown",
   "metadata": {},
   "source": [
    "## Clasification"
   ]
  },
  {
   "cell_type": "code",
   "execution_count": 10,
   "metadata": {},
   "outputs": [],
   "source": [
    "classifier = RandomForestClassifier()"
   ]
  },
  {
   "cell_type": "code",
   "execution_count": 11,
   "metadata": {},
   "outputs": [
    {
     "data": {
      "text/plain": [
       "RandomForestClassifier(bootstrap=True, ccp_alpha=0.0, class_weight=None,\n",
       "                       criterion='gini', max_depth=None, max_features='auto',\n",
       "                       max_leaf_nodes=None, max_samples=None,\n",
       "                       min_impurity_decrease=0.0, min_impurity_split=None,\n",
       "                       min_samples_leaf=1, min_samples_split=2,\n",
       "                       min_weight_fraction_leaf=0.0, n_estimators=100,\n",
       "                       n_jobs=None, oob_score=False, random_state=None,\n",
       "                       verbose=0, warm_start=False)"
      ]
     },
     "execution_count": 11,
     "metadata": {},
     "output_type": "execute_result"
    }
   ],
   "source": [
    "classifier.fit(X=train.drop(columns='target'), y=train['target'])"
   ]
  },
  {
   "cell_type": "code",
   "execution_count": 12,
   "metadata": {},
   "outputs": [],
   "source": [
    "y_pred = classifier.predict(X=test.drop(columns='target'))"
   ]
  },
  {
   "cell_type": "markdown",
   "metadata": {},
   "source": [
    "We've trained a model with the following characteristics:\n",
    "\n",
    "|    | Actual Negatives | Actual Positives |\n",
    "|:---|:---:|:---:|\n",
    "| Predicted Negatives | 15373 | 314 |\n",
    "| Predicted Positives | 1313 | 128 |"
   ]
  },
  {
   "cell_type": "code",
   "execution_count": 13,
   "metadata": {},
   "outputs": [
    {
     "data": {
      "text/plain": [
       "array([[15428,   350],\n",
       "       [ 1220,   130]], dtype=int64)"
      ]
     },
     "execution_count": 13,
     "metadata": {},
     "output_type": "execute_result"
    }
   ],
   "source": [
    "confusion_matrix(y_true=test['target'], y_pred=y_pred)"
   ]
  },
  {
   "cell_type": "code",
   "execution_count": null,
   "metadata": {},
   "outputs": [],
   "source": []
  }
 ],
 "metadata": {
  "kernelspec": {
   "display_name": "Python 3",
   "language": "python",
   "name": "python3"
  },
  "language_info": {
   "codemirror_mode": {
    "name": "ipython",
    "version": 3
   },
   "file_extension": ".py",
   "mimetype": "text/x-python",
   "name": "python",
   "nbconvert_exporter": "python",
   "pygments_lexer": "ipython3",
   "version": "3.7.6"
  }
 },
 "nbformat": 4,
 "nbformat_minor": 4
}
